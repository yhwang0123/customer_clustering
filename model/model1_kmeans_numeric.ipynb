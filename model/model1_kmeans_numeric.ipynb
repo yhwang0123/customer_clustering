{
 "cells": [
  {
   "cell_type": "code",
   "execution_count": 1,
   "metadata": {},
   "outputs": [],
   "source": [
    "import pandas as pd\n",
    "import numpy as np\n",
    "import matplotlib.pyplot as plt\n",
    "import matplotlib as mpl\n",
    "import seaborn as sns\n",
    "from plotly.subplots import make_subplots\n",
    "from sklearn.cluster import KMeans\n",
    "from sklearn.decomposition import PCA\n",
    "from sklearn.metrics import silhouette_score\n",
    "from sklearn.pipeline import Pipeline\n",
    "from sklearn.preprocessing import StandardScaler\n",
    "import sklearn.preprocessing  as prepro\n",
    "from sklearn.metrics import silhouette_score\n",
    "import joblib\n",
    "import pickle\n",
    "%matplotlib inline\n",
    "from warnings import filterwarnings\n",
    "filterwarnings('ignore')"
   ]
  },
  {
   "cell_type": "code",
   "execution_count": null,
   "metadata": {},
   "outputs": [],
   "source": [
    "df = pd.read_csv(\"../assets/train_data.csv\", sep=\",\")\n",
    "df.head()"
   ]
  },
  {
   "cell_type": "code",
   "execution_count": 3,
   "metadata": {},
   "outputs": [],
   "source": [
    "#these are the features for training\n",
    "cols = [\"Contacts_Count_12_mon\",\"Credit_Limit\",\"Total_Revolving_Bal\",\"Avg_Utilization_Ratio\"]"
   ]
  },
  {
   "cell_type": "code",
   "execution_count": 4,
   "metadata": {},
   "outputs": [
    {
     "data": {
      "image/png": "[encoded data removed]",
      "text/plain": [
       "<Figure size 720x576 with 1 Axes>"
      ]
     },
     "metadata": {
      "needs_background": "light"
     },
     "output_type": "display_data"
    }
   ],
   "source": [
    "#plot the elbow curve to find the best k number\n",
    "wcss = []\n",
    "\n",
    "for i in range(2,16):\n",
    "    km = KMeans(n_clusters = i, init = 'k-means++', max_iter = 500, n_init = 10, random_state = 42)\n",
    "    data = StandardScaler().fit_transform(df[cols])\n",
    "    km.fit(data)\n",
    "    wcss.append(km.inertia_)\n",
    "\n",
    "fig = plt.figure(figsize=(10,8))\n",
    "plt.plot(range(2,16), wcss)\n",
    "plt.title('Elbow Method')\n",
    "plt.xlabel('K Clusters')\n",
    "plt.ylabel('Within-cluster Sums of Squares')\n",
    "plt.show()"
   ]
  },
  {
   "cell_type": "code",
   "execution_count": null,
   "metadata": {},
   "outputs": [],
   "source": [
    "#build the pipeline for scaling, PCA, and KMeans\n",
    "preprocessor = Pipeline(\n",
    "[(\"scaler\", StandardScaler()),\n",
    " (\"pca\", PCA(n_components=2, random_state=42))])\n",
    "\n",
    "clusterer = Pipeline(\n",
    "     [\n",
    "       (\n",
    "              \"kmeans\",\n",
    "               KMeans(\n",
    "                   n_clusters=3,\n",
    "                   init=\"k-means++\",\n",
    "                   n_init=50,\n",
    "                   max_iter=1000,\n",
    "                   random_state=42\n",
    "                      )\n",
    "       )\n",
    "      ]\n",
    "   )\n",
    "\n",
    "pipe = Pipeline(\n",
    "        [\n",
    "            (\"preprocessor\", preprocessor),\n",
    "            (\"clusterer\", clusterer)\n",
    "        ]\n",
    "    )\n",
    "\n",
    "\n",
    "pipe.fit(df[cols])"
   ]
  },
  {
   "cell_type": "code",
   "execution_count": 6,
   "metadata": {},
   "outputs": [
    {
     "name": "stdout",
     "output_type": "stream",
     "text": [
      "Silhouette Score:  0.4966307006883939\n"
     ]
    }
   ],
   "source": [
    "#got the Silhouette Score, calculate the goodness of a clustering technique. the higher score the better\n",
    "preprocessed_data = pipe[\"preprocessor\"].transform(df[cols])\n",
    "\n",
    "predicted_labels = pipe[\"clusterer\"][\"kmeans\"].labels_\n",
    "\n",
    "print('Silhouette Score: ', silhouette_score(preprocessed_data, predicted_labels))"
   ]
  },
  {
   "cell_type": "code",
   "execution_count": 7,
   "metadata": {},
   "outputs": [
    {
     "data": {
      "text/plain": [
       "['pipe.joblib']"
      ]
     },
     "execution_count": 7,
     "metadata": {},
     "output_type": "execute_result"
    }
   ],
   "source": [
    "#save pipeline\n",
    "joblib.dump(pipe,'pipe.joblib')"
   ]
  }
 ],
 "metadata": {
  "kernelspec": {
   "display_name": "Python 3.9.7 ('base')",
   "language": "python",
   "name": "python3"
  },
  "language_info": {
   "codemirror_mode": {
    "name": "ipython",
    "version": 3
   },
   "file_extension": ".py",
   "mimetype": "text/x-python",
   "name": "python",
   "nbconvert_exporter": "python",
   "pygments_lexer": "ipython3",
   "version": "3.9.7"
  },
  "orig_nbformat": 4,
  "vscode": {
   "interpreter": {
    "hash": "40d3a090f54c6569ab1632332b64b2c03c39dcf918b08424e98f38b5ae0af88f"
   }
  }
 },
 "nbformat": 4,
 "nbformat_minor": 2
}
